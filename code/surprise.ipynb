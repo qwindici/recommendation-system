{
 "cells": [
  {
   "cell_type": "code",
   "execution_count": 22,
   "metadata": {},
   "outputs": [],
   "source": [
    "import pandas as pd\n",
    "from surprise import Reader, Dataset\n",
    "from sklearn.model_selection import train_test_split"
   ]
  },
  {
   "cell_type": "code",
   "execution_count": 23,
   "metadata": {},
   "outputs": [],
   "source": [
    "seed = 42"
   ]
  },
  {
   "cell_type": "code",
   "execution_count": 24,
   "metadata": {},
   "outputs": [
    {
     "data": {
      "text/plain": [
       "604906"
      ]
     },
     "execution_count": 24,
     "metadata": {},
     "output_type": "execute_result"
    }
   ],
   "source": [
    "dataset = pd.read_csv(\"../datasets/clean_dataset.csv\", dtype = {\n",
    "    'users': 'uint16',\n",
    "    'books': 'int32',\n",
    "    'ratings': 'int8',  # Use 'category' for categorical data\n",
    "})\n",
    "len(dataset)"
   ]
  },
  {
   "cell_type": "code",
   "execution_count": 25,
   "metadata": {},
   "outputs": [],
   "source": [
    "dataset = dataset.drop([\"categories\", \"description\",\"title\"], axis=1)\n",
    "dataset = dataset[[\"user\", \"book_id\", \"rating\"]]"
   ]
  },
  {
   "cell_type": "markdown",
   "metadata": {},
   "source": [
    "## GridSearch for multiple algorithms"
   ]
  },
  {
   "cell_type": "code",
   "execution_count": 27,
   "metadata": {},
   "outputs": [
    {
     "name": "stdout",
     "output_type": "stream",
     "text": [
      "Train set size: 489973\n",
      "Validation set size: 54442\n"
     ]
    }
   ],
   "source": [
    "from sklearn.model_selection import train_test_split\n",
    "from surprise import Dataset, Reader\n",
    "\n",
    "reader = Reader(rating_scale=(1, 5))\n",
    "trainval_df, test_df = train_test_split(dataset, test_size=0.10, random_state=seed)\n",
    "train_df, val_df = train_test_split(trainval_df, test_size=0.10, random_state=seed)\n",
    "\n",
    "# make train_set a Trainset object\n",
    "train_set = Dataset.load_from_df(train_df, reader).build_full_trainset()\n",
    "\n",
    "# make validation and test set in the right format: list of tuples\n",
    "val_set = list(val_df.itertuples(index=False, name=None))\n",
    "\n",
    "# sizes of each set\n",
    "print(f\"Train set size: {train_set.n_ratings}\")\n",
    "print(f\"Validation set size: {len(val_set)}\")"
   ]
  },
  {
   "cell_type": "code",
   "execution_count": 6,
   "metadata": {},
   "outputs": [],
   "source": [
    "# fraction of the dataset for grid search\n",
    "_, subset = train_test_split(train_df, test_size=0.4, random_state=42) \n",
    "reader = Reader(rating_scale=(1, 5))\n",
    "subset = Dataset.load_from_df(subset, reader)"
   ]
  },
  {
   "cell_type": "code",
   "execution_count": null,
   "metadata": {},
   "outputs": [],
   "source": [
    "# grid search\n",
    "from surprise import SVD, KNNBasic, KNNWithMeans, BaselineOnly\n",
    "from surprise.accuracy import rmse\n",
    "from surprise.model_selection import GridSearchCV\n",
    "\n",
    "\n",
    "# Define algorithms and their parameter grids\n",
    "param_grids = {\n",
    "    \"SVD\": {\"n_factors\": [50, 100], \"lr_all\": [0.005, 0.01], \"reg_all\": [0.02, 0.1]},\n",
    "    \"KNNBasic\": {\n",
    "        \"k\": [20, 40],\n",
    "        \"min_k\": [1, 3],\n",
    "        \"sim_options\": {\"name\": [\"cosine\"], \"user_based\": [True, False]},\n",
    "    },\n",
    "    \"KNNWithMeans\": {\n",
    "        \"k\": [20, 40],\n",
    "        \"min_k\": [1, 3],\n",
    "        \"sim_options\": {\"name\": [\"cosine\"], \"user_based\": [True, False]},\n",
    "    },\n",
    "    \"BaselineOnly\": {\n",
    "        \"bsl_options\": {\n",
    "            \"method\": [\"sgd\", \"als\"],\n",
    "            \"learning_rate\": [0.005, 0.01],\n",
    "            \"reg\": [0.02, 0.1],\n",
    "        }\n",
    "    },\n",
    "}\n",
    "\n",
    "# Run GridSearchCV for each algorithm\n",
    "best_algorithms = {}\n",
    "for algo_name, param_grid in param_grids.items():\n",
    "    print(f\"Tuning {algo_name}...\")\n",
    "    algo_class = eval(algo_name)  # Dynamically get the algorithm class\n",
    "    gs = GridSearchCV(algo_class, param_grid, measures=[\"rmse\"], cv=2)\n",
    "    gs.fit(subset) \n",
    "\n",
    "    # Save the best algorithm and its parameters\n",
    "    best_algorithms[algo_name] = {\n",
    "        \"best_algo\": gs.best_estimator[\"rmse\"],\n",
    "        \"best_params\": gs.best_params[\"rmse\"],\n",
    "        \"best_rmse\": gs.best_score[\"rmse\"],\n",
    "    }"
   ]
  },
  {
   "cell_type": "code",
   "execution_count": null,
   "metadata": {},
   "outputs": [],
   "source": [
    "best_algorithms\n",
    "\"\"\"\n",
    "{'SVD': {'best_algo': <surprise.prediction_algorithms.matrix_factorization.SVD at 0x3797f7800>,\n",
    "  'best_params': {'n_factors': 50, 'lr_all': 0.01, 'reg_all': 0.02},\n",
    "  'best_rmse': 0.8356303051692147},\n",
    " 'KNNBasic': {'best_algo': <surprise.prediction_algorithms.knns.KNNBasic at 0x1544c63f0>,\n",
    "  'best_params': {'k': 20,\n",
    "   'min_k': 1,\n",
    "   'sim_options': {'name': 'msd', 'user_based': True}},\n",
    "  'best_rmse': 0.8792703092704963},\n",
    " 'KNNWithMeans': {'best_algo': <surprise.prediction_algorithms.knns.KNNWithMeans at 0x31e2521e0>,\n",
    "  'best_params': {'k': 20,\n",
    "   'min_k': 3,\n",
    "   'sim_options': {'name': 'msd', 'user_based': False}},\n",
    "  'best_rmse': 0.8918201340711682},\n",
    " 'BaselineOnly': {'best_algo': <surprise.prediction_algorithms.baseline_only.BaselineOnly at 0x127e4e780>,\n",
    "  'best_params': {'bsl_options': {'method': 'sgd',\n",
    "    'learning_rate': 0.01,\n",
    "    'reg': 0.02}},\n",
    "  'best_rmse': 0.8890501088103555}}\n",
    "\"\"\""
   ]
  },
  {
   "cell_type": "markdown",
   "metadata": {},
   "source": [
    "### fine-tuning SVD"
   ]
  },
  {
   "cell_type": "code",
   "execution_count": 28,
   "metadata": {},
   "outputs": [
    {
     "name": "stdout",
     "output_type": "stream",
     "text": [
      "RMSE: 0.6710\n"
     ]
    },
    {
     "data": {
      "text/plain": [
       "0.6709833112719381"
      ]
     },
     "execution_count": 28,
     "metadata": {},
     "output_type": "execute_result"
    }
   ],
   "source": [
    "from surprise.prediction_algorithms.matrix_factorization import SVD\n",
    "from surprise import accuracy\n",
    "\n",
    "algo = SVD(\n",
    "        n_factors=95,\n",
    "        lr_all=0.017,\n",
    "        reg_all=0.025,\n",
    "        n_epochs=200,\n",
    "        random_state=seed,\n",
    ")\n",
    "algo.fit(train_set)\n",
    "predictions = algo.test(val_set)\n",
    "\n",
    "accuracy.rmse(predictions, verbose=True)\n",
    "\n",
    "# RMSE: 0.6509"
   ]
  },
  {
   "cell_type": "markdown",
   "metadata": {},
   "source": [
    "#### more epochs"
   ]
  },
  {
   "cell_type": "code",
   "execution_count": 29,
   "metadata": {},
   "outputs": [
    {
     "name": "stdout",
     "output_type": "stream",
     "text": [
      "RMSE: 0.6703\n"
     ]
    },
    {
     "data": {
      "text/plain": [
       "0.6703318604796966"
      ]
     },
     "execution_count": 29,
     "metadata": {},
     "output_type": "execute_result"
    }
   ],
   "source": [
    "from surprise.prediction_algorithms.matrix_factorization import SVD\n",
    "from surprise import accuracy\n",
    "\n",
    "algo = SVD(\n",
    "    n_factors=95,\n",
    "    lr_all=0.017,\n",
    "    reg_all=0.025,\n",
    "    n_epochs=250,\n",
    "    random_state=seed,\n",
    ")\n",
    "algo.fit(train_set)\n",
    "predictions = algo.test(val_set)\n",
    "\n",
    "accuracy.rmse(predictions, verbose=True)\n",
    "\n",
    "# 210 RMSE: 0.6508\n",
    "# 215 RMSE: 0.6507\n",
    "# 220 RMSE: 0.6506\n",
    "# 230 RMSE: 0.6505\n",
    "# 230 RMSE: 0.6503"
   ]
  },
  {
   "cell_type": "code",
   "execution_count": 30,
   "metadata": {},
   "outputs": [
    {
     "name": "stdout",
     "output_type": "stream",
     "text": [
      "RMSE: 0.6685\n"
     ]
    },
    {
     "data": {
      "text/plain": [
       "0.6685258005938344"
      ]
     },
     "execution_count": 30,
     "metadata": {},
     "output_type": "execute_result"
    }
   ],
   "source": [
    "from surprise.prediction_algorithms.matrix_factorization import SVD\n",
    "from surprise import accuracy\n",
    "\n",
    "algo = SVD(\n",
    "    n_factors=95,\n",
    "    lr_all=0.017,\n",
    "    init_std_dev=0.05,\n",
    "    reg_all=0.025,\n",
    "    n_epochs=250,\n",
    "    random_state=seed,\n",
    ")\n",
    "algo.fit(train_set)\n",
    "predictions = algo.test(val_set)\n",
    "\n",
    "accuracy.rmse(predictions, verbose=True)\n",
    "\n",
    "# init_std_dev=0.05 RMSE: RMSE: 0.6456"
   ]
  },
  {
   "cell_type": "markdown",
   "metadata": {},
   "source": [
    "#### modifying reg_all"
   ]
  },
  {
   "cell_type": "code",
   "execution_count": 31,
   "metadata": {},
   "outputs": [
    {
     "name": "stdout",
     "output_type": "stream",
     "text": [
      "RMSE: 0.6659\n"
     ]
    },
    {
     "data": {
      "text/plain": [
       "0.665886525561939"
      ]
     },
     "execution_count": 31,
     "metadata": {},
     "output_type": "execute_result"
    }
   ],
   "source": [
    "from surprise.prediction_algorithms.matrix_factorization import SVD\n",
    "from surprise import accuracy\n",
    "\n",
    "algo = SVD(\n",
    "    n_factors=95,\n",
    "    lr_all=0.013,\n",
    "    init_std_dev=0.05,\n",
    "    reg_all=0.01,\n",
    "    n_epochs=250,\n",
    "    random_state=seed,\n",
    ")\n",
    "algo.fit(train_set)\n",
    "predictions = algo.test(val_set)\n",
    "\n",
    "accuracy.rmse(predictions, verbose=True)\n",
    "\n",
    "# reg_all 0.02: RMSE: 0.6442\n",
    "# reg_all 0.018: RMSE: 0.6438\n",
    "# reg_all=0.01 + lr_all=0.015\n",
    "# reg_all=0.01 + lr_all=0.013 RMSE: 0.6428"
   ]
  },
  {
   "cell_type": "markdown",
   "metadata": {},
   "source": [
    "#### again more epochs"
   ]
  },
  {
   "cell_type": "code",
   "execution_count": 32,
   "metadata": {},
   "outputs": [
    {
     "name": "stdout",
     "output_type": "stream",
     "text": [
      "RMSE: 0.6657\n"
     ]
    },
    {
     "data": {
      "text/plain": [
       "0.6656678535104626"
      ]
     },
     "execution_count": 32,
     "metadata": {},
     "output_type": "execute_result"
    }
   ],
   "source": [
    "from surprise.prediction_algorithms.matrix_factorization import SVD\n",
    "from surprise import accuracy\n",
    "\n",
    "algo = SVD(\n",
    "    n_factors=95,\n",
    "    lr_all=0.013,\n",
    "    init_std_dev=0.05,\n",
    "    reg_all=0.01,\n",
    "    n_epochs=300,\n",
    "    random_state=seed,\n",
    ")\n",
    "algo.fit(train_set)\n",
    "predictions = algo.test(val_set)\n",
    "\n",
    "accuracy.rmse(predictions, verbose=True)\n",
    "\n",
    "# n_epo0chs: 300\n"
   ]
  }
 ],
 "metadata": {
  "kernelspec": {
   "display_name": "ML-github",
   "language": "python",
   "name": "venv"
  },
  "language_info": {
   "codemirror_mode": {
    "name": "ipython",
    "version": 3
   },
   "file_extension": ".py",
   "mimetype": "text/x-python",
   "name": "python",
   "nbconvert_exporter": "python",
   "pygments_lexer": "ipython3",
   "version": "3.9.0"
  }
 },
 "nbformat": 4,
 "nbformat_minor": 4
}
