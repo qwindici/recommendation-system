{
 "cells": [
  {
   "cell_type": "code",
   "execution_count": 1,
   "metadata": {},
   "outputs": [],
   "source": [
    "import pandas as pd\n",
    "import matplotlib.pyplot as plt\n",
    "import torch"
   ]
  },
  {
   "cell_type": "code",
   "execution_count": 2,
   "metadata": {},
   "outputs": [],
   "source": [
    "books_data = pd.read_csv(\"../dataset/books_data.csv\")"
   ]
  },
  {
   "cell_type": "code",
   "execution_count": 3,
   "metadata": {},
   "outputs": [],
   "source": [
    "# keep only useful columns\n",
    "books = books_data[[\"Title\", \"description\", \"categories\"]]\n",
    "# drop NaN\n",
    "books = books.dropna(subset=[\"description\"])\n",
    "# eliminate useless descriptions\n",
    "books = books[books[\"description\"] != \"No description available.\"]"
   ]
  },
  {
   "cell_type": "code",
   "execution_count": 4,
   "metadata": {},
   "outputs": [],
   "source": [
    "ratings_data = pd.read_csv(\"../dataset/Books_rating.csv\")"
   ]
  },
  {
   "cell_type": "code",
   "execution_count": 5,
   "metadata": {},
   "outputs": [],
   "source": [
    "ratings_data.drop(\n",
    "    [\n",
    "        \"Id\",\n",
    "        \"Price\",\n",
    "        \"profileName\",\n",
    "        \"review/helpfulness\",\n",
    "        \"review/summary\",\n",
    "        \"review/text\",\n",
    "        \"review/time\",\n",
    "    ],\n",
    "    axis=1,\n",
    "    inplace=True,\n",
    ")"
   ]
  },
  {
   "cell_type": "code",
   "execution_count": 6,
   "metadata": {},
   "outputs": [],
   "source": [
    "ratings = pd.merge(ratings_data, books, on=\"Title\", how=\"inner\")"
   ]
  },
  {
   "cell_type": "code",
   "execution_count": 7,
   "metadata": {},
   "outputs": [],
   "source": [
    "ratings.dropna(subset=[\"User_id\"], inplace=True)"
   ]
  },
  {
   "cell_type": "code",
   "execution_count": 8,
   "metadata": {},
   "outputs": [
    {
     "data": {
      "text/html": [
       "<div>\n",
       "<style scoped>\n",
       "    .dataframe tbody tr th:only-of-type {\n",
       "        vertical-align: middle;\n",
       "    }\n",
       "\n",
       "    .dataframe tbody tr th {\n",
       "        vertical-align: top;\n",
       "    }\n",
       "\n",
       "    .dataframe thead th {\n",
       "        text-align: right;\n",
       "    }\n",
       "</style>\n",
       "<table border=\"1\" class=\"dataframe\">\n",
       "  <thead>\n",
       "    <tr style=\"text-align: right;\">\n",
       "      <th></th>\n",
       "      <th>title</th>\n",
       "      <th>user</th>\n",
       "      <th>rating</th>\n",
       "      <th>description</th>\n",
       "      <th>categories</th>\n",
       "    </tr>\n",
       "  </thead>\n",
       "  <tbody>\n",
       "    <tr>\n",
       "      <th>0</th>\n",
       "      <td>Dr. Seuss: American Icon</td>\n",
       "      <td>A30TK6U7DNS82R</td>\n",
       "      <td>5.0</td>\n",
       "      <td>Philip Nel takes a fascinating look into the k...</td>\n",
       "      <td>['Biography &amp; Autobiography']</td>\n",
       "    </tr>\n",
       "    <tr>\n",
       "      <th>1</th>\n",
       "      <td>Dr. Seuss: American Icon</td>\n",
       "      <td>A3UH4UZ4RSVO82</td>\n",
       "      <td>5.0</td>\n",
       "      <td>Philip Nel takes a fascinating look into the k...</td>\n",
       "      <td>['Biography &amp; Autobiography']</td>\n",
       "    </tr>\n",
       "    <tr>\n",
       "      <th>2</th>\n",
       "      <td>Dr. Seuss: American Icon</td>\n",
       "      <td>A2MVUWT453QH61</td>\n",
       "      <td>4.0</td>\n",
       "      <td>Philip Nel takes a fascinating look into the k...</td>\n",
       "      <td>['Biography &amp; Autobiography']</td>\n",
       "    </tr>\n",
       "    <tr>\n",
       "      <th>3</th>\n",
       "      <td>Dr. Seuss: American Icon</td>\n",
       "      <td>A22X4XUPKF66MR</td>\n",
       "      <td>4.0</td>\n",
       "      <td>Philip Nel takes a fascinating look into the k...</td>\n",
       "      <td>['Biography &amp; Autobiography']</td>\n",
       "    </tr>\n",
       "    <tr>\n",
       "      <th>4</th>\n",
       "      <td>Dr. Seuss: American Icon</td>\n",
       "      <td>A2F6NONFUDB6UK</td>\n",
       "      <td>4.0</td>\n",
       "      <td>Philip Nel takes a fascinating look into the k...</td>\n",
       "      <td>['Biography &amp; Autobiography']</td>\n",
       "    </tr>\n",
       "  </tbody>\n",
       "</table>\n",
       "</div>"
      ],
      "text/plain": [
       "                      title            user  rating  \\\n",
       "0  Dr. Seuss: American Icon  A30TK6U7DNS82R     5.0   \n",
       "1  Dr. Seuss: American Icon  A3UH4UZ4RSVO82     5.0   \n",
       "2  Dr. Seuss: American Icon  A2MVUWT453QH61     4.0   \n",
       "3  Dr. Seuss: American Icon  A22X4XUPKF66MR     4.0   \n",
       "4  Dr. Seuss: American Icon  A2F6NONFUDB6UK     4.0   \n",
       "\n",
       "                                         description  \\\n",
       "0  Philip Nel takes a fascinating look into the k...   \n",
       "1  Philip Nel takes a fascinating look into the k...   \n",
       "2  Philip Nel takes a fascinating look into the k...   \n",
       "3  Philip Nel takes a fascinating look into the k...   \n",
       "4  Philip Nel takes a fascinating look into the k...   \n",
       "\n",
       "                      categories  \n",
       "0  ['Biography & Autobiography']  \n",
       "1  ['Biography & Autobiography']  \n",
       "2  ['Biography & Autobiography']  \n",
       "3  ['Biography & Autobiography']  \n",
       "4  ['Biography & Autobiography']  "
      ]
     },
     "execution_count": 8,
     "metadata": {},
     "output_type": "execute_result"
    }
   ],
   "source": [
    "ratings = ratings.rename(\n",
    "    columns={\"Title\": \"title\", \"User_id\": \"user\", \"review/score\": \"rating\"}\n",
    ")\n",
    "ratings.head()"
   ]
  },
  {
   "cell_type": "code",
   "execution_count": 9,
   "metadata": {},
   "outputs": [
    {
     "data": {
      "text/plain": [
       "1912073"
      ]
     },
     "execution_count": 9,
     "metadata": {},
     "output_type": "execute_result"
    }
   ],
   "source": [
    "len(ratings)"
   ]
  },
  {
   "cell_type": "code",
   "execution_count": 10,
   "metadata": {},
   "outputs": [
    {
     "data": {
      "image/png": "[encoded data removed]",
      "text/plain": [
       "<Figure size 1200x600 with 1 Axes>"
      ]
     },
     "metadata": {},
     "output_type": "display_data"
    }
   ],
   "source": [
    "user_review_counts = ratings[\"user\"].value_counts()\n",
    "# Plotting the distribution of reviews per user\n",
    "plt.figure(figsize=(12, 6))\n",
    "plt.hist(\n",
    "    user_review_counts[user_review_counts.between(1, 100)],\n",
    "    bins=50,\n",
    "    edgecolor=\"k\",\n",
    "    alpha=0.7,\n",
    ")\n",
    "plt.title(\"Distribution of Reviews per User (1 to 10,000)\", fontsize=16)\n",
    "plt.xlabel(\"Number of Reviews\", fontsize=14)\n",
    "plt.ylabel(\"Number of Users\", fontsize=14)\n",
    "plt.grid(axis=\"y\", linestyle=\"--\", alpha=0.7)\n",
    "plt.yscale(\"log\")  # Log scale for better visualization\n",
    "plt.show()"
   ]
  },
  {
   "cell_type": "code",
   "execution_count": 11,
   "metadata": {},
   "outputs": [],
   "source": [
    "# remove users with less than 9 ratings\n",
    "valid_users = user_review_counts[user_review_counts >= 9].index\n",
    "ratings = ratings[ratings[\"user\"].isin(valid_users)]"
   ]
  },
  {
   "cell_type": "code",
   "execution_count": 12,
   "metadata": {},
   "outputs": [
    {
     "data": {
      "image/png": "[encoded data removed]",
      "text/plain": [
       "<Figure size 1200x600 with 1 Axes>"
      ]
     },
     "metadata": {},
     "output_type": "display_data"
    }
   ],
   "source": [
    "user_review_counts = ratings[\"user\"].value_counts()\n",
    "plt.figure(figsize=(12, 6))\n",
    "plt.hist(\n",
    "    user_review_counts[user_review_counts.between(1, 100)],\n",
    "    bins=50,\n",
    "    edgecolor=\"k\",\n",
    "    alpha=0.7,\n",
    ")\n",
    "plt.title(\"Distribution of Reviews per User (1 to 100)\", fontsize=16)\n",
    "plt.xlabel(\"Number of Reviews\", fontsize=14)\n",
    "plt.ylabel(\"Number of Users\", fontsize=14)\n",
    "plt.grid(axis=\"y\", linestyle=\"--\", alpha=0.7)\n",
    "plt.yscale(\"log\")  # Log scale for better visualization\n",
    "plt.show()"
   ]
  },
  {
   "cell_type": "code",
   "execution_count": 13,
   "metadata": {},
   "outputs": [
    {
     "data": {
      "text/plain": [
       "604906"
      ]
     },
     "execution_count": 13,
     "metadata": {},
     "output_type": "execute_result"
    }
   ],
   "source": [
    "len(ratings)"
   ]
  },
  {
   "cell_type": "code",
   "execution_count": 14,
   "metadata": {},
   "outputs": [],
   "source": [
    "from sklearn.preprocessing import LabelEncoder\n",
    "\n",
    "user_encoder = LabelEncoder()\n",
    "ratings.loc[:, \"user\"] = user_encoder.fit_transform(ratings[\"user\"])\n",
    "\n",
    "books_encoder = LabelEncoder()\n",
    "ratings.loc[:, \"book_id\"] = user_encoder.fit_transform(ratings[\"title\"])"
   ]
  },
  {
   "cell_type": "code",
   "execution_count": 15,
   "metadata": {},
   "outputs": [
    {
     "data": {
      "text/html": [
       "<div>\n",
       "<style scoped>\n",
       "    .dataframe tbody tr th:only-of-type {\n",
       "        vertical-align: middle;\n",
       "    }\n",
       "\n",
       "    .dataframe tbody tr th {\n",
       "        vertical-align: top;\n",
       "    }\n",
       "\n",
       "    .dataframe thead th {\n",
       "        text-align: right;\n",
       "    }\n",
       "</style>\n",
       "<table border=\"1\" class=\"dataframe\">\n",
       "  <thead>\n",
       "    <tr style=\"text-align: right;\">\n",
       "      <th></th>\n",
       "      <th>title</th>\n",
       "      <th>user</th>\n",
       "      <th>rating</th>\n",
       "      <th>description</th>\n",
       "      <th>categories</th>\n",
       "      <th>book_id</th>\n",
       "    </tr>\n",
       "  </thead>\n",
       "  <tbody>\n",
       "    <tr>\n",
       "      <th>0</th>\n",
       "      <td>Dr. Seuss: American Icon</td>\n",
       "      <td>13243</td>\n",
       "      <td>5.0</td>\n",
       "      <td>Philip Nel takes a fascinating look into the k...</td>\n",
       "      <td>['Biography &amp; Autobiography']</td>\n",
       "      <td>16961</td>\n",
       "    </tr>\n",
       "    <tr>\n",
       "      <th>2</th>\n",
       "      <td>Dr. Seuss: American Icon</td>\n",
       "      <td>10640</td>\n",
       "      <td>4.0</td>\n",
       "      <td>Philip Nel takes a fascinating look into the k...</td>\n",
       "      <td>['Biography &amp; Autobiography']</td>\n",
       "      <td>16961</td>\n",
       "    </tr>\n",
       "    <tr>\n",
       "      <th>4</th>\n",
       "      <td>Dr. Seuss: American Icon</td>\n",
       "      <td>9274</td>\n",
       "      <td>4.0</td>\n",
       "      <td>Philip Nel takes a fascinating look into the k...</td>\n",
       "      <td>['Biography &amp; Autobiography']</td>\n",
       "      <td>16961</td>\n",
       "    </tr>\n",
       "    <tr>\n",
       "      <th>5</th>\n",
       "      <td>Dr. Seuss: American Icon</td>\n",
       "      <td>879</td>\n",
       "      <td>5.0</td>\n",
       "      <td>Philip Nel takes a fascinating look into the k...</td>\n",
       "      <td>['Biography &amp; Autobiography']</td>\n",
       "      <td>16961</td>\n",
       "    </tr>\n",
       "    <tr>\n",
       "      <th>10</th>\n",
       "      <td>Wonderful Worship in Smaller Churches</td>\n",
       "      <td>14374</td>\n",
       "      <td>5.0</td>\n",
       "      <td>This resource includes twelve principles in un...</td>\n",
       "      <td>['Religion']</td>\n",
       "      <td>75326</td>\n",
       "    </tr>\n",
       "  </tbody>\n",
       "</table>\n",
       "</div>"
      ],
      "text/plain": [
       "                                    title   user  rating  \\\n",
       "0                Dr. Seuss: American Icon  13243     5.0   \n",
       "2                Dr. Seuss: American Icon  10640     4.0   \n",
       "4                Dr. Seuss: American Icon   9274     4.0   \n",
       "5                Dr. Seuss: American Icon    879     5.0   \n",
       "10  Wonderful Worship in Smaller Churches  14374     5.0   \n",
       "\n",
       "                                          description  \\\n",
       "0   Philip Nel takes a fascinating look into the k...   \n",
       "2   Philip Nel takes a fascinating look into the k...   \n",
       "4   Philip Nel takes a fascinating look into the k...   \n",
       "5   Philip Nel takes a fascinating look into the k...   \n",
       "10  This resource includes twelve principles in un...   \n",
       "\n",
       "                       categories  book_id  \n",
       "0   ['Biography & Autobiography']    16961  \n",
       "2   ['Biography & Autobiography']    16961  \n",
       "4   ['Biography & Autobiography']    16961  \n",
       "5   ['Biography & Autobiography']    16961  \n",
       "10                   ['Religion']    75326  "
      ]
     },
     "execution_count": 15,
     "metadata": {},
     "output_type": "execute_result"
    }
   ],
   "source": [
    "ratings.head()"
   ]
  },
  {
   "cell_type": "code",
   "execution_count": 16,
   "metadata": {},
   "outputs": [
    {
     "name": "stdout",
     "output_type": "stream",
     "text": [
      "user: 24876, 0\n",
      "user: 5.0, 1.0\n",
      "user: 76408, 0\n"
     ]
    }
   ],
   "source": [
    "print(f'user: {ratings['user'].max()}, {ratings['user'].min()}')\n",
    "print(f'user: {ratings['rating'].max()}, {ratings['rating'].min()}')\n",
    "print(f'user: {ratings['book_id'].max()}, {ratings['book_id'].min()}')"
   ]
  },
  {
   "cell_type": "code",
   "execution_count": null,
   "metadata": {},
   "outputs": [],
   "source": []
  },
  {
   "cell_type": "code",
   "execution_count": 17,
   "metadata": {},
   "outputs": [
    {
     "name": "stdout",
     "output_type": "stream",
     "text": [
      "<class 'pandas.core.frame.DataFrame'>\n",
      "Index: 604906 entries, 0 to 2359702\n",
      "Data columns (total 6 columns):\n",
      " #   Column       Non-Null Count   Dtype \n",
      "---  ------       --------------   ----- \n",
      " 0   title        604906 non-null  object\n",
      " 1   user         604906 non-null  uint16\n",
      " 2   rating       604906 non-null  int8  \n",
      " 3   description  604906 non-null  object\n",
      " 4   categories   558575 non-null  object\n",
      " 5   book_id      604906 non-null  int32 \n",
      "dtypes: int32(1), int8(1), object(3), uint16(1)\n",
      "memory usage: 22.5+ MB\n"
     ]
    }
   ],
   "source": [
    "# ratings in int8 -> smaller data\n",
    "ratings[\"rating\"] = ratings[\"rating\"].astype(\"int8\")\n",
    "ratings[\"user\"] = ratings[\"user\"].astype(\"uint16\")\n",
    "ratings[\"book_id\"] = ratings[\"book_id\"].astype(\"int32\")\n",
    "ratings.info()"
   ]
  },
  {
   "cell_type": "code",
   "execution_count": 18,
   "metadata": {},
   "outputs": [],
   "source": [
    "ratings.to_csv(\"../dataset/clean_dataset.csv\", index=False)"
   ]
  }
 ],
 "metadata": {
  "kernelspec": {
   "display_name": "ML PROJECT",
   "language": "python",
   "name": "ml_project"
  },
  "language_info": {
   "codemirror_mode": {
    "name": "ipython",
    "version": 3
   },
   "file_extension": ".py",
   "mimetype": "text/x-python",
   "name": "python",
   "nbconvert_exporter": "python",
   "pygments_lexer": "ipython3",
   "version": "3.12.1"
  }
 },
 "nbformat": 4,
 "nbformat_minor": 2
}
